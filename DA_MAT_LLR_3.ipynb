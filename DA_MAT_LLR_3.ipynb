{
  "nbformat": 4,
  "nbformat_minor": 0,
  "metadata": {
    "colab": {
      "provenance": []
    },
    "kernelspec": {
      "name": "python3",
      "display_name": "Python 3"
    },
    "language_info": {
      "name": "python"
    }
  },
  "cells": [
    {
      "cell_type": "markdown",
      "source": [
        "# Module: Main Analysis Types\n",
        "## Sprint: Linear and Logistic Regression\n",
        "## Part 3: Graded task\n",
        "\n",
        "<br>\n",
        "\n",
        "Access the graded task [here](https://docs.google.com/spreadsheets/d/1tZ88HZd75ONCiWr7plt9QYFmuJmaV15nt5NWRZhpuug/edit#gid=1437577042).\n",
        "\n",
        "<br>\n",
        "\n",
        "## Submission\n",
        "Upload all solution files for this graded task to your GitHub repository using the \"Add File\" function.\n",
        "\n",
        "## Accessing the next module:\n",
        "After you submit your project, you can immediately start working on the next sprint. [Here are the instructions](https://turingcollege.atlassian.net/wiki/spaces/DLG/pages/946864153/Sprint+material+access) for accessing next module's learning material.\n",
        "\n",
        "\n"
      ],
      "metadata": {
        "id": "ygmNKa4w3CwF"
      }
    }
  ]
}